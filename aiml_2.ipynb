{
  "nbformat": 4,
  "nbformat_minor": 0,
  "metadata": {
    "colab": {
      "provenance": [],
      "authorship_tag": "ABX9TyMoCX043O9ItYFgSXm+Vsvi",
      "include_colab_link": true
    },
    "kernelspec": {
      "name": "python3",
      "display_name": "Python 3"
    },
    "language_info": {
      "name": "python"
    }
  },
  "cells": [
    {
      "cell_type": "markdown",
      "metadata": {
        "id": "view-in-github",
        "colab_type": "text"
      },
      "source": [
        "<a href=\"https://colab.research.google.com/github/Abhilash-Gaju/AIML-2303A52195-/blob/main/aiml_2.ipynb\" target=\"_parent\"><img src=\"https://colab.research.google.com/assets/colab-badge.svg\" alt=\"Open In Colab\"/></a>"
      ]
    },
    {
      "cell_type": "code",
      "execution_count": 1,
      "metadata": {
        "colab": {
          "base_uri": "https://localhost:8080/"
        },
        "id": "SrySTK83ufyx",
        "outputId": "595f0ae3-6110-400f-8723-7e7ae3645dd2"
      },
      "outputs": [
        {
          "output_type": "stream",
          "name": "stdout",
          "text": [
            "The adjacency List representing the graph is:\n",
            "{0: [1, 3], 1: [0, 2, 3], 2: [4, 1, 5], 3: [4, 0, 1], 4: [2, 3, 5], 5: [4, 2], 6: []}\n",
            "BFS traversal of graph with source 0 is:\n",
            "0-->1-->3-->2-->4-->5-->"
          ]
        }
      ],
      "source": [
        "from queue import Queue\n",
        "\n",
        "graph = {0: [1, 3], 1: [0, 2, 3], 2: [4, 1, 5], 3: [4, 0, 1], 4: [2, 3, 5], 5: [4, 2], 6: []}\n",
        "print(\"The adjacency List representing the graph is:\")\n",
        "print(graph)\n",
        "\n",
        "\n",
        "def bfs(graph, source):\n",
        "    Q = Queue()\n",
        "    visited_vertices = set()\n",
        "    Q.put(source)\n",
        "    visited_vertices.update({0})\n",
        "    while not Q.empty():\n",
        "        vertex = Q.get()\n",
        "        print(vertex, end=\"-->\")\n",
        "        for u in graph[vertex]:\n",
        "            if u not in visited_vertices:\n",
        "                Q.put(u)\n",
        "                visited_vertices.update({u})\n",
        "\n",
        "print(\"BFS traversal of graph with source 0 is:\")\n",
        "bfs(graph, 0)"
      ]
    },
    {
      "cell_type": "code",
      "source": [
        "graph1 = {\n",
        "    'A' : ['B','S'],\n",
        "    'B' : ['A'],\n",
        "    'C' : ['D','E','F','S'],\n",
        "    'D' : ['C'],\n",
        "    'E' : ['C','H'],\n",
        "    'F' : ['C','G'],\n",
        "    'G' : ['F','S'],\n",
        "    'H' : ['E','G'],\n",
        "    'S' : ['A','C','G']\n",
        "}\n",
        "\n",
        "def dfs(graph, node, visited):\n",
        "    if node not in visited:\n",
        "        visited.append(node)\n",
        "        for k in graph[node]:\n",
        "            dfs(graph,k, visited)\n",
        "    return visited\n",
        "\n",
        "visited = dfs(graph1,'D', [])\n",
        "print(visited)"
      ],
      "metadata": {
        "colab": {
          "base_uri": "https://localhost:8080/"
        },
        "id": "-J9GfdKouqdo",
        "outputId": "c3af6a8d-cad7-4a00-ff71-bb427ab8fb19"
      },
      "execution_count": 2,
      "outputs": [
        {
          "output_type": "stream",
          "name": "stdout",
          "text": [
            "['D', 'C', 'E', 'H', 'G', 'F', 'S', 'A', 'B']\n"
          ]
        }
      ]
    },
    {
      "cell_type": "code",
      "source": [
        "from copy import deepcopy\n",
        "import numpy as np\n",
        "import time\n",
        "\n",
        "def bestsolution(state):\n",
        "    bestsol = np.array([], int).reshape(-1, 9)\n",
        "    count = len(state) - 1\n",
        "    while count != -1:\n",
        "        bestsol = np.insert(bestsol, 0, state[count]['puzzle'], 0)\n",
        "        count = (state[count]['parent'])\n",
        "    return bestsol.reshape(-1, 3, 3)\n",
        "\n",
        "\n",
        "# checks for the uniqueness of the iteration(it).\n",
        "def all(checkarray):\n",
        "    set=[]\n",
        "    for it in set:\n",
        "        for checkarray in it:\n",
        "            return 1\n",
        "        else:\n",
        "            return 0\n",
        "\n",
        "\n",
        "# number of misplaced tiles\n",
        "def misplaced_tiles(puzzle,goal):\n",
        "    mscost = np.sum(puzzle != goal) - 1\n",
        "    return mscost if mscost > 0 else 0\n",
        "\n",
        "\n",
        "def coordinates(puzzle):\n",
        "    pos = np.array(range(9))\n",
        "    for p, q in enumerate(puzzle):\n",
        "        pos[q] = p\n",
        "    return pos\n",
        "\n",
        "\n",
        "# start of 8 puzzle evaluvation, using Misplaced tiles heuristics\n",
        "def evaluvate_misplaced(puzzle, goal):\n",
        "    # Indent the code block within the function\n",
        "    steps = np.array([('up', [0, 1, 2], -3),('down', [6, 7, 8],  3),('left', [0, 3, 6], -1),('right', [2, 5, 8],  1)],\n",
        "                    dtype =  [('move',  str, 1),('position', list),('head', int)])\n",
        "    dtstate = [('puzzle',  list),('parent', int)]"
      ],
      "metadata": {
        "id": "eCZCPEcZvyBh"
      },
      "execution_count": 7,
      "outputs": []
    }
  ]
}