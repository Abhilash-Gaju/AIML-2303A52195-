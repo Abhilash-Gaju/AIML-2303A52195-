{
  "nbformat": 4,
  "nbformat_minor": 0,
  "metadata": {
    "colab": {
      "provenance": [],
      "authorship_tag": "ABX9TyO1sDLAdm1lTgAl6lmN1lb8",
      "include_colab_link": true
    },
    "kernelspec": {
      "name": "python3",
      "display_name": "Python 3"
    },
    "language_info": {
      "name": "python"
    }
  },
  "cells": [
    {
      "cell_type": "markdown",
      "metadata": {
        "id": "view-in-github",
        "colab_type": "text"
      },
      "source": [
        "<a href=\"https://colab.research.google.com/github/Abhilash-Gaju/AIML-2303A52195-/blob/main/lab_5_aiml.ipynb\" target=\"_parent\"><img src=\"https://colab.research.google.com/assets/colab-badge.svg\" alt=\"Open In Colab\"/></a>"
      ]
    },
    {
      "cell_type": "code",
      "source": [
        "import os\n",
        "print(os.getcwd()) # This will print the current working directory\n",
        "!ls # This will list all files in the current directory"
      ],
      "metadata": {
        "colab": {
          "base_uri": "https://localhost:8080/"
        },
        "id": "o2G4G6Er_K9p",
        "outputId": "54cfec78-295f-4d62-dff1-43ef8a2a05fe"
      },
      "execution_count": 4,
      "outputs": [
        {
          "output_type": "stream",
          "name": "stdout",
          "text": [
            "/content\n",
            "sample_data\n"
          ]
        }
      ]
    },
    {
      "cell_type": "code",
      "source": [
        "import pandas as pd # Import the pandas library\n",
        "import os # Import the os library\n",
        "\n",
        "# Print the current working directory to verify the location the notebook is running in.\n",
        "print(os.getcwd())\n",
        "\n",
        "# List all files in the current directory to check if 'train.csv' exists\n",
        "!ls\n",
        "\n",
        "# Check if the 'data' directory exists\n",
        "if not os.path.exists('data'):\n",
        "    print(\"The directory 'data' does not exist.\")"
      ],
      "metadata": {
        "colab": {
          "base_uri": "https://localhost:8080/"
        },
        "id": "cvB_4D_GAhM5",
        "outputId": "996b7bd7-8148-464b-f307-01205254a682"
      },
      "execution_count": 12,
      "outputs": [
        {
          "output_type": "stream",
          "name": "stdout",
          "text": [
            "/content\n",
            "sample_data\n",
            "The directory 'data' does not exist.\n"
          ]
        }
      ]
    },
    {
      "cell_type": "code",
      "source": [
        "import seaborn as sns  # Import the seaborn library\n",
        "import pandas as pd  # Import the pandas library\n",
        "import os\n",
        "\n",
        "# Get the current working directory\n",
        "cwd = os.getcwd()\n",
        "print(\"Current working directory:\", cwd)\n",
        "\n",
        "# List files in the current directory\n",
        "print(\"Files in current directory:\", os.listdir(cwd))\n",
        "\n",
        "# Define the path to the 'train.csv' file\n",
        "file_path = 'train.csv'  # Or the correct path if it's in a different directory\n",
        "\n",
        "# Check if the file exists"
      ],
      "metadata": {
        "colab": {
          "base_uri": "https://localhost:8080/"
        },
        "id": "1m_onX1DDeFh",
        "outputId": "9cd4e023-6b9e-4ea7-fff3-fece91a78d74"
      },
      "execution_count": 34,
      "outputs": [
        {
          "output_type": "stream",
          "name": "stdout",
          "text": [
            "Current working directory: /content\n",
            "Files in current directory: ['.config', 'sample_data']\n"
          ]
        }
      ]
    },
    {
      "cell_type": "code",
      "source": [
        "import seaborn as sns  # Import the seaborn library\n",
        "import pandas as pd  # Import the os library\n",
        "import os\n",
        "\n",
        "# Get the current working directory\n",
        "cwd = os.getcwd()\n",
        "print(\"Current working directory:\", cwd)\n"
      ],
      "metadata": {
        "colab": {
          "base_uri": "https://localhost:8080/"
        },
        "id": "dpNdxcPwDtXd",
        "outputId": "d74d36da-5421-4f0d-b282-eef64793bf04"
      },
      "execution_count": 36,
      "outputs": [
        {
          "output_type": "stream",
          "name": "stdout",
          "text": [
            "Current working directory: /content\n"
          ]
        }
      ]
    },
    {
      "cell_type": "code",
      "source": [
        "import seaborn as sns  # Import the seaborn library\n",
        "import pandas as pd  # Import the pandas library\n",
        "import os\n",
        "\n",
        "# Get the current working directory\n",
        "cwd = os.getcwd()\n",
        "print(\"Current working directory:\", cwd)\n",
        "\n",
        "# List files in the current directory\n",
        "print(\"Files in current directory:\", os.listdir(cwd))\n",
        "\n",
        "# Define the path to the 'train.csv' file\n",
        "file_path = 'train.csv'  # Or the correct path if it's in a different directory\n",
        "\n",
        "# Check if the file exists\n"
      ],
      "metadata": {
        "colab": {
          "base_uri": "https://localhost:8080/"
        },
        "id": "c3wejkxZGRq5",
        "outputId": "ae9075b3-c9e4-4817-86f8-3ce8e9608a04"
      },
      "execution_count": 44,
      "outputs": [
        {
          "output_type": "stream",
          "name": "stdout",
          "text": [
            "Current working directory: /content\n",
            "Files in current directory: ['.config', 'sample_data']\n"
          ]
        }
      ]
    },
    {
      "cell_type": "code",
      "source": [
        "import os\n",
        "\n",
        "file_path = 'train.csv'  # Or the correct path if it's in a different directory\n",
        "\n",
        "if os.path.exists(file_path):\n",
        "    print(\"File exists at:\", os.path.abspath(file_path))\n",
        "else:\n",
        "    print(\"File not found.\")"
      ],
      "metadata": {
        "colab": {
          "base_uri": "https://localhost:8080/"
        },
        "id": "IFxxvDXUGrby",
        "outputId": "53ee71e1-39f9-433a-dfee-d64eea3df13d"
      },
      "execution_count": 47,
      "outputs": [
        {
          "output_type": "stream",
          "name": "stdout",
          "text": [
            "File not found.\n"
          ]
        }
      ]
    },
    {
      "cell_type": "code",
      "source": [
        "import seaborn as sns  # Import the seaborn library\n",
        "import pandas as pd  # Import the pandas library\n",
        "import os\n",
        "\n",
        "# Load the 'train.csv' file into a Pandas DataFrame\n",
        "# Replace 'train.csv' with the actual file name if different\n",
        "# If the file is not in the current directory, provide the correct absolute path or relative path"
      ],
      "metadata": {
        "id": "mrKbxvcrHbmo"
      },
      "execution_count": 53,
      "outputs": []
    },
    {
      "cell_type": "code",
      "source": [
        "import seaborn as sns  # Import the seaborn library\n",
        "import pandas as pd  # Import the pandas library\n",
        "import matplotlib.pyplot as plt # Import the matplotlib library\n",
        "\n",
        "# Load the 'train.csv' file into a Pandas DataFrame\n",
        "# If the file is not in the current directory, provide the correct absolute path or relative path\n",
        "try:\n",
        "    train = pd.read_csv('train.csv')\n",
        "except FileNotFoundError:\n",
        "    print(\"File not found. Please check the file path and try again.\")\n",
        "    # Handle the case where the file is not found by assigning an empty DataFrame to train\n",
        "    # train = pd.DataFrame() # Create an empty DataFrame\n",
        "    # Instead of creating an empty dataframe, you could exit the program to prevent further errors."
      ],
      "metadata": {
        "colab": {
          "base_uri": "https://localhost:8080/"
        },
        "id": "LgwTGWZFLWv_",
        "outputId": "7b056aed-a01c-455c-b38f-8ccfc762e085"
      },
      "execution_count": 70,
      "outputs": [
        {
          "output_type": "stream",
          "name": "stdout",
          "text": [
            "File not found. Please check the file path and try again.\n"
          ]
        }
      ]
    },
    {
      "cell_type": "code",
      "source": [
        "import seaborn as sns  # Import the seaborn library\n",
        "import pandas as pd  # Import the pandas library\n",
        "import matplotlib.pyplot as plt # Import the matplotlib library\n",
        "\n",
        "# Load the 'train.csv' file into a Pandas DataFrame\n",
        "# If the file is not in the current directory, provide the correct absolute path or relative path\n",
        "try:\n",
        "    train = pd.read_csv('train.csv')\n",
        "    # Print the column names to verify that 'Pclass' exists\n",
        "    print(train.columns)\n",
        "except FileNotFoundError:\n",
        "    print(\"File not found. Please check the file path and try again.\")\n",
        "    # Handle the case where the file is not found by assigning an empty DataFrame to train\n",
        "    # train = pd.DataFrame() # Create an empty DataFrame\n",
        "    # Instead of creating an empty dataframe, you could exit the program to prevent further errors.\n",
        "\n",
        "# Calculate the average age of passengers by class (only if 'Pclass' exists)\n",
        "if 'Pclass' in train.columns:\n",
        "    f_class_Age=train.groupby('Pclass')['Age'].mean()\n",
        "    f_class_Age = pd.DataFrame(f_class_Age)\n",
        "\n",
        "    f_class_Age.plot.bar(y='Age')\n",
        "    plt.title(\"Average age of passengers by class\",fontsize=17)\n",
        "    plt.ylabel(\"Age (years)\", fontsize=17)\n",
        "    plt.xlabel(\"Passenger class\", fontsize=17)\n",
        "else:\n",
        "    print(\"Column 'Pclass' not found in DataFrame.\")"
      ],
      "metadata": {
        "colab": {
          "base_uri": "https://localhost:8080/"
        },
        "id": "0NIpteT5LtQQ",
        "outputId": "2116c3b3-84fc-4fec-be24-c65bb5685fc0"
      },
      "execution_count": 72,
      "outputs": [
        {
          "output_type": "stream",
          "name": "stdout",
          "text": [
            "File not found. Please check the file path and try again.\n",
            "Column 'Pclass' not found in DataFrame.\n"
          ]
        }
      ]
    },
    {
      "cell_type": "code",
      "source": [
        "import seaborn as sns  # Import the seaborn library\n",
        "import pandas as pd  # Import the pandas library\n",
        "import matplotlib.pyplot as plt # Import the matplotlib library\n",
        "\n",
        "# Load the 'train.csv' file into a Pandas DataFrame\n",
        "# If the file is not in the current directory, provide the correct absolute path or relative path\n",
        "try:\n",
        "    train = pd.read_csv('train.csv')\n",
        "    # Print the column names to verify that 'Pclass' exists\n",
        "    print(train.columns)\n",
        "except FileNotFoundError:\n",
        "    print(\"File not found. Please check the file path and try again.\")\n",
        "    # Handle the case where the file is not found by assigning an empty DataFrame to train\n",
        "    # train = pd.DataFrame() # Create an empty DataFrame\n",
        "    # Instead of creating an empty dataframe, you could exit the program to prevent further errors.\n",
        "\n",
        "# Calculate the average age of passengers by class (only if 'Pclass' exists)\n",
        "if 'Pclass' in train.columns:\n",
        "    f_class_Age=train.groupby('Pclass')['Age'].mean()\n",
        "    f_class_Age = pd.DataFrame(f_class_Age)\n",
        "\n",
        "    f_class_Age.plot.bar(y='Age')\n",
        "    plt.title(\"Average age of passengers by class\",fontsize=17)\n",
        "    plt.ylabel(\"Age (years)\", fontsize=17)\n",
        "    plt.xlabel(\"Passenger class\", fontsize=17)\n",
        "\n",
        "    # Calculate 'a' here, after f_class_Age is defined\n",
        "    a=list(f_class_Age['Age'])\n",
        "else:\n",
        "    print(\"Column 'Pclass' not found in DataFrame.\")\n",
        "\n",
        "\n",
        "def impute_age(cols):\n",
        "    Age = cols[0]\n",
        "    Pclass = cols[1]\n",
        "\n",
        "    if pd.isnull(Age):\n",
        "\n",
        "        if Pclass == 1:\n",
        "            return a[0]\n",
        "\n",
        "        elif Pclass == 2:\n",
        "            return a[1]\n",
        "\n",
        "        else:\n",
        "            return a[2]\n",
        "\n",
        "    else:\n",
        "        return Age"
      ],
      "metadata": {
        "colab": {
          "base_uri": "https://localhost:8080/"
        },
        "id": "Gz8WRlBEMBY5",
        "outputId": "3f00155c-e671-4701-8e6b-73077ed16b8e"
      },
      "execution_count": 74,
      "outputs": [
        {
          "output_type": "stream",
          "name": "stdout",
          "text": [
            "File not found. Please check the file path and try again.\n",
            "Column 'Pclass' not found in DataFrame.\n"
          ]
        }
      ]
    },
    {
      "cell_type": "code",
      "source": [
        "import seaborn as sns  # Import the seaborn library\n",
        "import pandas as pd  # Import the pandas library\n",
        "import matplotlib.pyplot as plt # Import the matplotlib library\n",
        "\n",
        "# Load the 'train.csv' file into a Pandas DataFrame\n",
        "# If the file is not in the current directory, provide the correct absolute path or relative path\n",
        "try:\n",
        "    train = pd.read_csv('train.csv')\n",
        "    # Print the column names to verify that 'Pclass' exists\n",
        "    print(train.columns)\n",
        "except FileNotFoundError:\n",
        "    print(\"File not found. Please check the file path and try again.\")\n",
        "    # Handle the case where the file is not found by assigning an empty DataFrame to train\n",
        "    # Instead of creating an empty dataframe, you could exit the program to prevent further errors.\n",
        "    # For example, to exit the program, you can use:\n",
        "    # import sys\n",
        "    # sys.exit(\"Exiting program due to file not found.\")\n",
        "\n",
        "# Calculate the average age of passengers by class (only if 'Pclass' exists)\n",
        "if 'Pclass' in train.columns:\n",
        "    f_class_Age=train.groupby('Pclass')['Age'].mean()\n",
        "    f_class_Age = pd.DataFrame(f_class_Age)\n",
        "\n",
        "    f_class_Age.plot.bar(y='Age')\n",
        "    plt.title(\"Average age of passengers by class\",fontsize=17)\n",
        "    plt.ylabel(\"Age (years)\", fontsize=17)\n",
        "    plt.xlabel(\"Passenger class\", fontsize=17)\n",
        "\n",
        "    # Calculate 'a' here, after f_class_Age is defined\n",
        "    a=list(f_class_Age['Age'])\n",
        "else:\n",
        "    print(\"Column 'Pclass' not found in DataFrame.\")\n",
        "\n",
        "\n",
        "def impute_age(cols):\n",
        "    Age = cols[0]\n",
        "    Pclass = cols[1]\n",
        "\n",
        "    if pd.isnull(Age):\n",
        "\n",
        "        if Pclass == 1:\n",
        "            return a[0]\n",
        "\n",
        "        elif Pclass == 2:\n",
        "            return a[1]\n",
        "\n",
        "        else:\n",
        "            return a[2]\n",
        "\n",
        "    else:\n",
        "        return Age\n",
        "\n",
        "# Check if the DataFrame is empty before applying the function\n",
        "if not train.empty:\n",
        "    train['Age'] = train[['Age','Pclass']].apply(impute_age,axis=1)\n",
        "    d=train.describe()\n",
        "\n",
        "    dT=d.T\n",
        "    dT.plot.bar(y='count')\n",
        "    plt.title(\"Bar plot of the count of numeric features\",fontsize=17)\n",
        "else:\n",
        "    print(\"DataFrame is empty. Please check if the file was loaded correctly.\")"
      ],
      "metadata": {
        "colab": {
          "base_uri": "https://localhost:8080/"
        },
        "id": "WFaO6GePMUoM",
        "outputId": "d4834c48-4a2b-4e40-a504-9ff19a107b50"
      },
      "execution_count": 76,
      "outputs": [
        {
          "output_type": "stream",
          "name": "stdout",
          "text": [
            "File not found. Please check the file path and try again.\n",
            "Column 'Pclass' not found in DataFrame.\n",
            "DataFrame is empty. Please check if the file was loaded correctly.\n"
          ]
        }
      ]
    },
    {
      "cell_type": "code",
      "source": [
        "import seaborn as sns  # Import the seaborn library\n",
        "import pandas as pd  # Import the pandas library\n",
        "import matplotlib.pyplot as plt # Import the matplotlib library\n",
        "\n",
        "# Load the 'train.csv' file into a Pandas DataFrame\n",
        "# If the file is not in the current directory, provide the correct absolute path or relative path\n",
        "try:\n",
        "    train = pd.read_csv('train.csv')\n",
        "    # Print the column names to verify that 'Pclass' exists\n",
        "    print(train.columns)\n",
        "except FileNotFoundError:\n",
        "    print(\"File not found. Please check the file path and try again.\")\n",
        "    # Handle the case where the file is not found\n",
        "    # Instead of creating an empty dataframe, you could exit the program to prevent further errors.\n",
        "    # For example, to exit the program, you can use:\n",
        "    # raise SystemExit(\"Exiting program due to file not found.\")\n",
        "\n",
        "# Calculate the average age of passengers by class (only if 'Pclass' exists)\n",
        "if 'Pclass' in train.columns:\n",
        "    f_class_Age=train.groupby('Pclass')['Age'].mean()\n",
        "    f_class_Age = pd.DataFrame(f_class_Age)\n",
        "\n",
        "    f_class_Age.plot.bar(y='Age')\n",
        "    plt.title(\"Average age of passengers by class\",fontsize=17)\n",
        "    plt.ylabel(\"Age (years)\", fontsize=17)\n",
        "    plt.xlabel(\"Passenger class\", fontsize=17)\n",
        "\n",
        "    # Calculate 'a' here, after f_class_Age is defined\n",
        "    a=list(f_class_Age['Age'])\n",
        "else:\n",
        "    print(\"Column 'Pclass' not found in DataFrame.\")\n",
        "\n",
        "\n",
        "def impute_age(cols):\n",
        "    Age = cols[0]\n",
        "    Pclass = cols[1]\n",
        "\n",
        "    if pd.isnull(Age):\n",
        "\n",
        "        if Pclass == 1:\n",
        "            return a[0]\n",
        "\n",
        "        elif Pclass == 2:\n",
        "            return a[1]\n",
        "\n",
        "        else:\n",
        "            return a[2]\n",
        "\n",
        "    else:\n",
        "        return Age\n",
        "\n",
        "# Check if the DataFrame is empty before applying the function\n",
        "if not train.empty:\n",
        "    train['Age'] = train[['Age','Pclass']].apply(impute_age,axis=1)\n",
        "    d=train.describe()\n",
        "\n",
        "    dT=d.T\n",
        "    dT.plot.bar(y='count')\n",
        "    plt.title(\"Bar plot of the count of numeric features\",fontsize=17)\n",
        "\n",
        "    # Check if 'Cabin' column exists before dropping\n",
        "    if 'Cabin' in train.columns:\n",
        "        train.drop('Cabin',axis=1,inplace=True)\n",
        "    else:\n",
        "        print(\"Cabin column not found in DataFrame.\")\n",
        "\n",
        "    train.dropna(inplace=True)\n",
        "    train.head()\n",
        "else:\n",
        "    print(\"DataFrame is empty. Please check if the file was loaded correctly.\")"
      ],
      "metadata": {
        "colab": {
          "base_uri": "https://localhost:8080/"
        },
        "id": "KvwEJstgNKsX",
        "outputId": "41c1d608-b81e-4d91-fc98-d9ef2fa14a90"
      },
      "execution_count": 81,
      "outputs": [
        {
          "output_type": "stream",
          "name": "stdout",
          "text": [
            "File not found. Please check the file path and try again.\n",
            "Column 'Pclass' not found in DataFrame.\n",
            "DataFrame is empty. Please check if the file was loaded correctly.\n"
          ]
        }
      ]
    },
    {
      "cell_type": "code",
      "source": [
        "# Check if the DataFrame is not empty and if the columns exist before dropping\n",
        "if not train.empty:\n",
        "    columns_to_drop = ['PassengerId', 'Name', 'Ticket']  # Removed 'Cabin' as it was already dropped\n",
        "    for col in columns_to_drop:\n",
        "        if col in train.columns:\n",
        "            train.drop(col, axis=1, inplace=True)\n",
        "        else:\n",
        "            print(f\"Column '{col}' not found in DataFrame.\")\n",
        "\n",
        "    train.dropna(inplace=True)\n",
        "    train.head()\n",
        "else:\n",
        "    print(\"DataFrame is empty. Please check if the file was loaded correctly.\")"
      ],
      "metadata": {
        "colab": {
          "base_uri": "https://localhost:8080/"
        },
        "id": "eHTj_PgLNhm2",
        "outputId": "281b892e-0cbc-4d73-801a-a372969042c3"
      },
      "execution_count": 83,
      "outputs": [
        {
          "output_type": "stream",
          "name": "stdout",
          "text": [
            "DataFrame is empty. Please check if the file was loaded correctly.\n"
          ]
        }
      ]
    },
    {
      "cell_type": "code",
      "source": [
        "import seaborn as sns  # Import the seaborn library\n",
        "import pandas as pd  # Import the pandas library\n",
        "import matplotlib.pyplot as plt # Import the matplotlib library\n",
        "\n",
        "# Load the 'train.csv' file into a Pandas DataFrame\n",
        "# If the file is not in the current directory, provide the correct absolute path or relative path\n",
        "try:\n",
        "    train = pd.read_csv('train.csv')\n",
        "    # Print the column names to verify that 'Pclass' exists\n",
        "    print(train.columns)\n",
        "except FileNotFoundError:\n",
        "    print(\"File not found. Please check the file path and try again.\")\n",
        "    # Handle the case where the file is not found\n",
        "    # Instead of raising SystemExit, you could print a message and exit the program using:\n",
        "    # print(\"Exiting program due to file not found.\")"
      ],
      "metadata": {
        "colab": {
          "base_uri": "https://localhost:8080/"
        },
        "id": "iEm8Xx7iN8kl",
        "outputId": "e30ab82a-1b6e-4c97-c47d-7f027d598644"
      },
      "execution_count": 86,
      "outputs": [
        {
          "output_type": "stream",
          "name": "stdout",
          "text": [
            "File not found. Please check the file path and try again.\n"
          ]
        }
      ]
    },
    {
      "cell_type": "code",
      "source": [
        "import seaborn as sns  # Import the seaborn library\n",
        "import pandas as pd  # Import the pandas library\n",
        "import matplotlib.pyplot as plt # Import the matplotlib library\n",
        "from sklearn.model_selection import train_test_split # Import train_test_split\n",
        "from sklearn.linear_model import LogisticRegression # Import LogisticRegression\n",
        "from sklearn.metrics import classification_report # Import classification_report\n",
        "\n",
        "# Load the 'train.csv' file into a Pandas DataFrame\n",
        "# If the file is not in the current directory, provide the correct absolute path or relative path\n",
        "try:\n",
        "    train = pd.read_csv('train.csv')\n",
        "    # Print the column names to verify that 'Pclass' exists\n",
        "    print(train.columns)\n",
        "except FileNotFoundError:\n",
        "    print(\"File not found. Please check the file path and try again.\")\n",
        "    # Handle the case where the file is not found\n",
        "    # Instead of raising SystemExit, you could print a message and exit the program using:\n",
        "    # print(\"Exiting program due to file not found.\")\n",
        "\n",
        "nsimu=101\n",
        "class_report = [0]*nsimu\n",
        "f1=[0]*nsimu\n",
        "test_fraction =[0]*nsimu\n",
        "for i in range(1,nsimu):\n",
        "        # Check if 'Survived' column exists before dropping\n",
        "        if 'Survived' in train.columns:\n",
        "            X_train, X_test, y_train, y_test = train_test_split(train.drop('Survived',axis=1),\n",
        "                                                    train['Survived'], test_size=0.1+(i-1)*0.007,\n",
        "                                                    random_state=111)\n",
        "            logmodel =(LogisticRegression(C=1,tol=1e-4, max_iter=1000,n_jobs=4))\n",
        "            logmodel.fit(X_train,y_train)\n",
        "            predictions = logmodel.predict(X_test)\n",
        "            class_report[i] = classification_report(y_test,predictions)\n",
        "            l=class_report[i].split()\n",
        "            f1[i] = l[len(l)-2]\n",
        "            test_fraction[i]=0.1+(i-1)*0.007\n",
        "        else:\n",
        "            print(\"Survived column not found in DataFrame.\")\n",
        "            break # Exit the loop if 'Survived' column is not found\n",
        "\n",
        "plt.plot(test_fraction[1:len(test_fraction)-2],f1[1:len(f1)-2])\n",
        "plt.title(\"F1-score vs. test set size (fraction)\",fontsize=20)\n",
        "plt.xlabel(\"Test set size (fraction)\",fontsize=17)\n",
        "plt.ylabel(\"F1-score on test data\",fontsize=17)\n",
        "plt.show()"
      ],
      "metadata": {
        "colab": {
          "base_uri": "https://localhost:8080/",
          "height": 525
        },
        "id": "xordA15BTrSt",
        "outputId": "30f0694b-ff99-4732-8c57-94a0ad2ab8df"
      },
      "execution_count": 97,
      "outputs": [
        {
          "output_type": "stream",
          "name": "stdout",
          "text": [
            "File not found. Please check the file path and try again.\n",
            "Survived column not found in DataFrame.\n"
          ]
        },
        {
          "output_type": "display_data",
          "data": {
            "text/plain": [
              "<Figure size 640x480 with 1 Axes>"
            ],
            "image/png": "[encoded data removed]"
          },
          "metadata": {}
        }
      ]
    },
    {
      "cell_type": "code",
      "source": [
        "nsimu=101\n",
        "class_report = [0]*nsimu\n",
        "f1=[0]*nsimu\n",
        "random_init =[0]*nsimu\n",
        "\n",
        "# Load the 'train.csv' file into a Pandas DataFrame\n",
        "# If the file is not in the current directory, provide the correct absolute path or relative path\n",
        "try:\n",
        "    train = pd.read_csv('train.csv')\n",
        "    # Print the column names to verify that 'Pclass' exists\n",
        "    print(train.columns)\n",
        "except FileNotFoundError:\n",
        "    print(\"File not found. Please check the file path and try again.\")\n",
        "    # Handle the case where the file is not found\n",
        "    # Instead of raising SystemExit, you could print a message and exit the program using:\n",
        "    # print(\"Exiting program due to file not found.\")\n",
        "\n",
        "\n",
        "for i in range(1,nsimu):\n",
        "        # Check if 'Survived' column exists before dropping\n",
        "        if 'Survived' in train.columns:\n",
        "            X_train, X_test, y_train, y_test = train_test_split(train.drop('Survived',axis=1),\n",
        "                                                    train['Survived'], test_size=0.3,\n",
        "                                                    random_state=i+100)\n",
        "            logmodel =(LogisticRegression(C=1,tol=1e-5, max_iter=1000,n_jobs=4))\n",
        "            logmodel.fit(X_train,y_train)\n",
        "            predictions = logmodel.predict(X_test)\n",
        "            class_report[i] = classification_report(y_test,predictions)\n",
        "            l=class_report[i].split()\n",
        "            f1[i] = l[len(l)-2]\n",
        "            random_init[i]=i+100\n",
        "        else:\n",
        "            print(\"Survived column not found in DataFrame.\")\n",
        "            break # Exit the loop if 'Survived' column is not found\n",
        "\n",
        "plt.plot(random_init[1:len(random_init)-2],f1[1:len(f1)-2])\n",
        "plt.title(\"F1-score vs. random initialization seed\",fontsize=20)\n",
        "plt.xlabel(\"Random initialization seed\",fontsize=17)\n",
        "plt.ylabel(\"F1-score on test data\",fontsize=17)\n",
        "plt.show()"
      ],
      "metadata": {
        "colab": {
          "base_uri": "https://localhost:8080/",
          "height": 525
        },
        "id": "IALCSubKUkD5",
        "outputId": "d30f0279-1cd4-41d3-f3f5-788fd66fc4c9"
      },
      "execution_count": 99,
      "outputs": [
        {
          "output_type": "stream",
          "name": "stdout",
          "text": [
            "File not found. Please check the file path and try again.\n",
            "Survived column not found in DataFrame.\n"
          ]
        },
        {
          "output_type": "display_data",
          "data": {
            "text/plain": [
              "<Figure size 640x480 with 1 Axes>"
            ],
            "image/png": "[encoded data removed]"
          },
          "metadata": {}
        }
      ]
    }
  ]
}