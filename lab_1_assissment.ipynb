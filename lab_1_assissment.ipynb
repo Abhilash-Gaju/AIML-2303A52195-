{
  "nbformat": 4,
  "nbformat_minor": 0,
  "metadata": {
    "colab": {
      "provenance": [],
      "authorship_tag": "ABX9TyM1EVNslOaYQTr1w+t3niUo",
      "include_colab_link": true
    },
    "kernelspec": {
      "name": "python3",
      "display_name": "Python 3"
    },
    "language_info": {
      "name": "python"
    }
  },
  "cells": [
    {
      "cell_type": "markdown",
      "metadata": {
        "id": "view-in-github",
        "colab_type": "text"
      },
      "source": [
        "<a href=\"https://colab.research.google.com/github/Abhilash-Gaju/AIML-2303A52195-/blob/main/lab_1_assissment.ipynb\" target=\"_parent\"><img src=\"https://colab.research.google.com/assets/colab-badge.svg\" alt=\"Open In Colab\"/></a>"
      ]
    },
    {
      "cell_type": "markdown",
      "source": [
        "1st question\n"
      ],
      "metadata": {
        "id": "FqLRdjabQYMF"
      }
    },
    {
      "cell_type": "code",
      "execution_count": 1,
      "metadata": {
        "id": "266a7a7AK3Rh"
      },
      "outputs": [],
      "source": [
        "\n",
        "import numpy as np\n",
        "from sklearn.metrics import mean_absolute_error, mean_squared_error\n"
      ]
    },
    {
      "cell_type": "code",
      "source": [
        "# Data: Actual and predicted values\n",
        "y_actual = [20, 30, 40, 50, 60]\n",
        "y_pred = [20.5, 30.3, 40.2, 50.6, 60.7]\n"
      ],
      "metadata": {
        "id": "9OGd2-0NLOC-"
      },
      "execution_count": 2,
      "outputs": []
    },
    {
      "cell_type": "code",
      "source": [
        "# Calculate error metrics from scratch\n",
        "n = len(y_actual)\n"
      ],
      "metadata": {
        "id": "dLRfoO5QLUDd"
      },
      "execution_count": 3,
      "outputs": []
    },
    {
      "cell_type": "code",
      "source": [
        "# Mean Absolute Error (MAE)\n",
        "mae_manual = sum(abs(y_a - y_p) for y_a, y_p in zip(y_actual, y_pred)) / n\n"
      ],
      "metadata": {
        "id": "hDGzkCdDLaAt"
      },
      "execution_count": 4,
      "outputs": []
    },
    {
      "cell_type": "code",
      "source": [
        "\n",
        "# Mean Squared Error (MSE)\n",
        "mse_manual = sum((y_a - y_p) ** 2 for y_a, y_p in zip(y_actual, y_pred)) / n\n"
      ],
      "metadata": {
        "id": "RQmkdjT-Leg1"
      },
      "execution_count": 5,
      "outputs": []
    },
    {
      "cell_type": "code",
      "source": [
        "# Root Mean Squared Error (RMSE)\n",
        "rmse_manual = mse_manual ** 0.5\n"
      ],
      "metadata": {
        "id": "LsEUIyxILjCV"
      },
      "execution_count": 6,
      "outputs": []
    },
    {
      "cell_type": "code",
      "source": [
        "# Print manual results\n",
        "print(\"Manual Calculation Results:\")\n",
        "print(f\"MAE: {mae_manual}\")\n",
        "print(f\"MSE: {mse_manual}\")\n",
        "print(f\"RMSE: {rmse_manual}\")\n"
      ],
      "metadata": {
        "colab": {
          "base_uri": "https://localhost:8080/"
        },
        "id": "B3mfmfRzL8mN",
        "outputId": "1b66dcbf-9c50-4512-e3f7-160ebd0a896a"
      },
      "execution_count": 7,
      "outputs": [
        {
          "output_type": "stream",
          "name": "stdout",
          "text": [
            "Manual Calculation Results:\n",
            "MAE: 0.4600000000000016\n",
            "MSE: 0.24600000000000147\n",
            "RMSE: 0.49598387070549127\n"
          ]
        }
      ]
    },
    {
      "cell_type": "code",
      "source": [
        "# Calculate error metrics using libraries\n",
        "mae_lib = mean_absolute_error(y_actual, y_pred)\n",
        "mse_lib = mean_squared_error(y_actual, y_pred)\n",
        "rmse_lib = np.sqrt(mse_lib)\n"
      ],
      "metadata": {
        "id": "BuQ3c4zgMDkd"
      },
      "execution_count": 8,
      "outputs": []
    },
    {
      "cell_type": "code",
      "source": [
        "# Print library results\n",
        "print(\"\\nLibrary Calculation Results:\")\n",
        "print(f\"MAE: {mae_lib}\")\n",
        "print(f\"MSE: {mse_lib}\")\n",
        "print(f\"RMSE: {rmse_lib}\")\n"
      ],
      "metadata": {
        "colab": {
          "base_uri": "https://localhost:8080/"
        },
        "id": "ob-dLUQNMIvt",
        "outputId": "6739d194-788a-4953-9ee1-d57b3e9b81fd"
      },
      "execution_count": 9,
      "outputs": [
        {
          "output_type": "stream",
          "name": "stdout",
          "text": [
            "\n",
            "Library Calculation Results:\n",
            "MAE: 0.4600000000000016\n",
            "MSE: 0.24600000000000147\n",
            "RMSE: 0.49598387070549127\n"
          ]
        }
      ]
    },
    {
      "cell_type": "code",
      "source": [
        "# Compare results\n",
        "print(\"\\nComparison:\")\n",
        "print(f\"MAE Difference: {abs(mae_manual - mae_lib)}\")\n",
        "print(f\"MSE Difference: {abs(mse_manual - mse_lib)}\")\n",
        "print(f\"RMSE Difference: {abs(rmse_manual - rmse_lib)}\")\n",
        ""
      ],
      "metadata": {
        "colab": {
          "base_uri": "https://localhost:8080/"
        },
        "id": "rXw1j2Z3MO_l",
        "outputId": "d969146d-b19a-4208-d830-871f989e07d3"
      },
      "execution_count": 10,
      "outputs": [
        {
          "output_type": "stream",
          "name": "stdout",
          "text": [
            "\n",
            "Comparison:\n",
            "MAE Difference: 0.0\n",
            "MSE Difference: 0.0\n",
            "RMSE Difference: 0.0\n"
          ]
        }
      ]
    },
    {
      "cell_type": "markdown",
      "source": [
        "2nd question\n"
      ],
      "metadata": {
        "id": "6zrh5gocNAT9"
      }
    },
    {
      "cell_type": "code",
      "source": [
        "from sklearn.metrics import accuracy_score, precision_score, recall_score, f1_score\n"
      ],
      "metadata": {
        "id": "kl368vjvNIgD"
      },
      "execution_count": 11,
      "outputs": []
    },
    {
      "cell_type": "code",
      "source": [
        "# Data: Actual and predicted values\n",
        "y_actual = [0, 0, 0, 0, 0, 0, 0, 1, 2, 2]\n",
        "y_pred = [1, 1, 2, 0, 1, 0, 2, 0, 2, 2]\n"
      ],
      "metadata": {
        "id": "UoiAch1QNUmd"
      },
      "execution_count": 12,
      "outputs": []
    },
    {
      "cell_type": "code",
      "source": [
        "# Classes in the dataset\n",
        "classes = set(y_actual)\n"
      ],
      "metadata": {
        "id": "4WrxorMgNcF1"
      },
      "execution_count": 13,
      "outputs": []
    },
    {
      "cell_type": "code",
      "source": [
        "# Manual Calculation of Metrics\n",
        "def calculate_metrics(y_actual, y_pred, classes):\n",
        "    # Confusion matrix components\n",
        "    confusion_matrix = {cls: {'TP': 0, 'FP': 0, 'FN': 0} for cls in classes}\n",
        "    total_samples = len(y_actual)\n"
      ],
      "metadata": {
        "id": "EIvYQvG9Nhd9"
      },
      "execution_count": 14,
      "outputs": []
    },
    {
      "source": [
        "# Manual Calculation of Metrics\n",
        "def calculate_metrics(y_actual, y_pred, classes):\n",
        "    # Confusion matrix components\n",
        "    confusion_matrix = {cls: {'TP': 0, 'FP': 0, 'FN': 0} for cls in classes}\n",
        "    total_samples = len(y_actual)\n",
        "\n",
        "    # Populate confusion matrix components\n",
        "    for actual, pred in zip(y_actual, y_pred): # This line was incorrectly indented\n",
        "        if actual == pred:\n",
        "            confusion_matrix[actual]['TP'] += 1\n",
        "        else:\n",
        "            confusion_matrix[pred]['FP'] += 1\n",
        "            confusion_matrix[actual]['FN'] += 1"
      ],
      "cell_type": "code",
      "metadata": {
        "id": "ZepXvfspNvet"
      },
      "execution_count": 16,
      "outputs": []
    },
    {
      "source": [
        "# Manual Calculation of Metrics\n",
        "def calculate_metrics(y_actual, y_pred, classes):\n",
        "    # Confusion matrix components\n",
        "    confusion_matrix = {cls: {'TP': 0, 'FP': 0, 'FN': 0} for cls in classes}\n",
        "    total_samples = len(y_actual)\n",
        "\n",
        "    # Populate confusion matrix components\n",
        "    for actual, pred in zip(y_actual, y_pred): # This line was incorrectly indented\n",
        "        if actual == pred:\n",
        "            confusion_matrix[actual]['TP'] += 1\n",
        "        else:\n",
        "            confusion_matrix[pred]['FP'] += 1\n",
        "            confusion_matrix[actual]['FN'] += 1\n",
        "\n",
        "    # Metrics  # This line and the subsequent lines were previously in a separate cell\n",
        "    total_correct = sum(confusion_matrix[cls]['TP'] for cls in classes)\n",
        "    accuracy = total_correct / total_samples\n",
        "\n",
        "    precision = {cls: (confusion_matrix[cls]['TP'] /\n",
        "                       (confusion_matrix[cls]['TP'] + confusion_matrix[cls]['FP'])\n",
        "                       if (confusion_matrix[cls]['TP'] + confusion_matrix[cls]['FP']) > 0 else 0)\n",
        "                 for cls in classes}\n",
        "\n",
        "    recall = {cls: (confusion_matrix[cls]['TP'] /\n",
        "                    (confusion_matrix[cls]['TP'] + confusion_matrix[cls]['FN'])\n",
        "                    if (confusion_matrix[cls]['TP'] + confusion_matrix[cls]['FN']) > 0 else 0)\n",
        "              for cls in classes}\n",
        "\n",
        "    f1 = {cls: (2 * precision[cls] * recall[cls] /\n",
        "                (precision[cls] + recall[cls]) if (precision[cls] + recall[cls]) > 0 else 0)\n",
        "          for cls in classes}\n",
        "\n",
        "    return accuracy, precision, recall, f1"
      ],
      "cell_type": "code",
      "metadata": {
        "id": "SL6hKyeGOFzt"
      },
      "execution_count": 18,
      "outputs": []
    },
    {
      "cell_type": "code",
      "source": [
        "# Calculate metrics manually\n",
        "accuracy_manual, precision_manual, recall_manual, f1_manual = calculate_metrics(y_actual, y_pred, classes)\n"
      ],
      "metadata": {
        "id": "o6K3Xx_xPeOV"
      },
      "execution_count": 19,
      "outputs": []
    },
    {
      "cell_type": "code",
      "source": [
        "# Print manual results\n",
        "print(\"Manual Calculation Results:\")\n",
        "print(f\"Accuracy: {accuracy_manual}\")\n",
        "print(f\"Precision: {precision_manual}\")\n",
        "print(f\"Recall: {recall_manual}\")\n",
        "print(f\"F1-Score: {f1_manual}\")\n"
      ],
      "metadata": {
        "colab": {
          "base_uri": "https://localhost:8080/"
        },
        "id": "TUO6LhCLPiCE",
        "outputId": "b904e7b8-57d3-4baf-a22d-5a64098d1d05"
      },
      "execution_count": 20,
      "outputs": [
        {
          "output_type": "stream",
          "name": "stdout",
          "text": [
            "Manual Calculation Results:\n",
            "Accuracy: 0.4\n",
            "Precision: {0: 0.6666666666666666, 1: 0.0, 2: 0.5}\n",
            "Recall: {0: 0.2857142857142857, 1: 0.0, 2: 1.0}\n",
            "F1-Score: {0: 0.4, 1: 0, 2: 0.6666666666666666}\n"
          ]
        }
      ]
    },
    {
      "cell_type": "code",
      "source": [
        "# Calculate metrics using libraries\n",
        "accuracy_lib = accuracy_score(y_actual, y_pred)\n",
        "precision_lib = precision_score(y_actual, y_pred, average=None, labels=list(classes))\n",
        "recall_lib = recall_score(y_actual, y_pred, average=None, labels=list(classes))\n",
        "f1_lib = f1_score(y_actual, y_pred, average=None, labels=list(classes))\n"
      ],
      "metadata": {
        "id": "xT7zf6mWPu_t"
      },
      "execution_count": 21,
      "outputs": []
    },
    {
      "cell_type": "code",
      "source": [
        "# Print library results\n",
        "print(\"\\nLibrary Calculation Results:\")\n",
        "print(f\"Accuracy: {accuracy_lib}\")\n",
        "print(f\"Precision: {dict(zip(classes, precision_lib))}\")\n",
        "print(f\"Recall: {dict(zip(classes, recall_lib))}\")\n",
        "print(f\"F1-Score: {dict(zip(classes, f1_lib))}\")\n"
      ],
      "metadata": {
        "colab": {
          "base_uri": "https://localhost:8080/"
        },
        "id": "fPo604ndP1St",
        "outputId": "59f0b625-c4b2-43f3-ff5a-b587ba82f045"
      },
      "execution_count": 22,
      "outputs": [
        {
          "output_type": "stream",
          "name": "stdout",
          "text": [
            "\n",
            "Library Calculation Results:\n",
            "Accuracy: 0.4\n",
            "Precision: {0: 0.6666666666666666, 1: 0.0, 2: 0.5}\n",
            "Recall: {0: 0.2857142857142857, 1: 0.0, 2: 1.0}\n",
            "F1-Score: {0: 0.4, 1: 0.0, 2: 0.6666666666666666}\n"
          ]
        }
      ]
    },
    {
      "cell_type": "code",
      "source": [
        "# Compare results\n",
        "print(\"\\nComparison:\")\n",
        "print(f\"Accuracy Difference: {abs(accuracy_manual - accuracy_lib)}\")\n",
        "print(f\"Precision Differences: {dict((cls, abs(precision_manual[cls] - p)) for cls, p in zip(classes, precision_lib))}\")\n",
        "print(f\"Recall Differences: {dict((cls, abs(recall_manual[cls] - r)) for cls, r in zip(classes, recall_lib))}\")\n",
        "print(f\"F1-Score Differences: {dict((cls, abs(f1_manual[cls] - f)) for cls, f in zip(classes, f1_lib))}\")\n",
        "\n"
      ],
      "metadata": {
        "colab": {
          "base_uri": "https://localhost:8080/"
        },
        "id": "eZkx1gAqP6qd",
        "outputId": "6f5f4ef1-1bef-4baf-a5bf-7944e05dc8c8"
      },
      "execution_count": 23,
      "outputs": [
        {
          "output_type": "stream",
          "name": "stdout",
          "text": [
            "\n",
            "Comparison:\n",
            "Accuracy Difference: 0.0\n",
            "Precision Differences: {0: 0.0, 1: 0.0, 2: 0.0}\n",
            "Recall Differences: {0: 0.0, 1: 0.0, 2: 0.0}\n",
            "F1-Score Differences: {0: 0.0, 1: 0.0, 2: 0.0}\n"
          ]
        }
      ]
    }
  ]
}